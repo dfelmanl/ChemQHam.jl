{
 "cells": [
  {
   "cell_type": "code",
   "execution_count": null,
   "id": "f2296dad",
   "metadata": {},
   "outputs": [
    {
     "name": "stderr",
     "output_type": "stream",
     "text": [
      "\u001b[32m\u001b[1m  Activating\u001b[22m\u001b[39m project at `~/Desktop/Felman/projects/Quantum/ChemQHam`\n",
      "\u001b[92m\u001b[1mPrecompiling\u001b[22m\u001b[39m project...\n",
      "   9592.1 ms\u001b[32m  ✓ \u001b[39mChemQHam\n",
      "  1 dependency successfully precompiled in 12 seconds. 229 already precompiled.\n",
      "\u001b[32m\u001b[1m  No Changes\u001b[22m\u001b[39m to `~/Desktop/Felman/projects/Quantum/ChemQHam/Project.toml`\n",
      "\u001b[32m\u001b[1m  No Changes\u001b[22m\u001b[39m to `~/Desktop/Felman/projects/Quantum/ChemQHam/Manifest.toml`\n"
     ]
    }
   ],
   "source": [
    "using Revise\n",
    "using Pkg\n",
    "Pkg.activate(\"..\")\n",
    "Pkg.instantiate()\n",
    "Pkg.resolve()\n",
    "\n",
    "include(\"../src/ChemQHam.jl\")\n",
    "using .ChemQHam\n",
    "\n",
    "using ITensorChemistry\n",
    "using SparseArrays\n",
    "using LinearAlgebra\n"
   ]
  },
  {
   "cell_type": "markdown",
   "id": "a6effc06",
   "metadata": {},
   "source": [
    "### Test Hopping term a1c2"
   ]
  },
  {
   "cell_type": "code",
   "execution_count": 2,
   "id": "e83c07be",
   "metadata": {},
   "outputs": [
    {
     "name": "stdout",
     "output_type": "stream",
     "text": [
      "Testing a1c2...\n",
      "opsum: sum(\n",
      "  0.14792631902885367 c†↑(1,) c↑(2,)\n",
      "  0.14792631902885367 c†↓(1,) c↓(2,)\n",
      ")\n",
      "op_terms: ChemOpSum with 1 terms:\n",
      "  1. [ a1 ]_1 ── [ c1 ]_2    factor = 0.14792631902885367\n"
     ]
    }
   ],
   "source": [
    "#### a1c2 ####\n",
    "\n",
    "n_sites=2\n",
    "init_ord = collect(1:n_sites)\n",
    "algo=\"Hungarian\"\n",
    "ops_tol= 1e-8\n",
    "ops_factor = 1e0\n",
    "\n",
    "a_loc = 1\n",
    "c_loc = 2\n",
    "\n",
    "println(\"Testing a1c2...\")\n",
    "\n",
    "# ITensorChemistry opsum generation\n",
    "\n",
    "molecule = Molecule([(\"Li\", 0.00, 0.00, 0.0000), (\"H\", 0.00, 0.00, 1.000)])\n",
    "(; opsum, h1e, h2e, nuc_e) = ITChem_opsum(molecule; n_sites=n_sites, idx_factor_list=nothing, it_terms_range=nothing, ops_tol=ops_tol, ops_factor=ops_factor)\n",
    "aacc_sites = map(op->[local_op.sites[1] for local_op in op.args[2]], opsum)\n",
    "it_terms_range = findall(sites->length(sites)==2 && sites[1] == a_loc && sites[2] == c_loc, aacc_sites)\n",
    "opsum = reduce(+, op for op in opsum[it_terms_range]) * ops_factor\n",
    "\n",
    "println(\"opsum: \", opsum)\n",
    "\n",
    "\n",
    "# TensorKit opsum generation\n",
    "\n",
    "terms = gen_ChemOpSum(h1e, h2e, nuc_e, init_ord; tol=ops_tol)\n",
    "\n",
    "terms_range = findall(t->length(t.sites)==2 && t.sites[1] == a_loc && t.sites[2] == c_loc , terms)\n",
    "\n",
    "op_terms=terms[terms_range] * ops_factor\n",
    "println(\"op_terms: \", op_terms)\n"
   ]
  },
  {
   "cell_type": "code",
   "execution_count": 10,
   "id": "eaf2faf8",
   "metadata": {},
   "outputs": [
    {
     "name": "stdout",
     "output_type": "stream",
     "text": [
      "Condition a1c2: true\n"
     ]
    }
   ],
   "source": [
    "# TensorKit opsum to TensorKit MPO and sparse mat\n",
    "table, primary_ops, factors = terms_to_table(op_terms)\n",
    "symbolic_mpo, virt_spaces = construct_symbolic_mpo(table, primary_ops, factors; verbose=false)\n",
    "mpo = symbolic_to_tensorkit_mpo(symbolic_mpo, virt_spaces, \"u1su2\"; verbose=false)\n",
    "tk_mat = mpo_to_mat(mpo)\n",
    "tk_nz = collect(zip(findnz(tk_mat)...))\n",
    "\n",
    "# ITensorChemistry opsum to sparse mat\n",
    "it_mat = ITChem_mat(opsum, n_sites)\n",
    "it_nz = collect(zip(findnz(it_mat)...))\n",
    "\n",
    "# compare\n",
    "cond_a1c2 = isapprox(norm(tk_mat-it_mat), 0.0, atol=1e-6)\n",
    "println(\"Condition a1c2: \", cond_a1c2)\n"
   ]
  }
 ],
 "metadata": {
  "kernelspec": {
   "display_name": "Julia 1.11.5",
   "language": "julia",
   "name": "julia-1.11"
  },
  "language_info": {
   "file_extension": ".jl",
   "mimetype": "application/julia",
   "name": "julia",
   "version": "1.11.5"
  }
 },
 "nbformat": 4,
 "nbformat_minor": 5
}
