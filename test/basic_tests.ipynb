{
 "cells": [
  {
   "cell_type": "code",
   "execution_count": 1,
   "id": "b2b1e562",
   "metadata": {},
   "outputs": [
    {
     "name": "stderr",
     "output_type": "stream",
     "text": [
      "┌ Warning: Your operating system has run out of inotify capacity.\n",
      "│ Check the current value with `cat /proc/sys/fs/inotify/max_user_watches`.\n",
      "│ Set it to a higher level with, e.g., `echo 65536 | sudo tee -a /proc/sys/fs/inotify/max_user_watches`.\n",
      "│ This requires having administrative privileges on your machine (or talk to your sysadmin).\n",
      "│ See https://github.com/timholy/Revise.jl/issues/26 for more information.\n",
      "└ @ Revise /home/daniel/.julia/packages/Revise/7QZSP/src/packagedef.jl:67\n",
      "\u001b[32m\u001b[1m  No Changes\u001b[22m\u001b[39m to `~/Desktop/Felman/projects/Quantum/ChemQHam/Project.toml`\n",
      "\u001b[32m\u001b[1m  No Changes\u001b[22m\u001b[39m to `~/Desktop/Felman/projects/Quantum/ChemQHam/Manifest.toml`\n"
     ]
    }
   ],
   "source": [
    "using Revise\n",
    "using Pkg\n",
    "Pkg.resolve()\n",
    "Pkg.instantiate()\n"
   ]
  },
  {
   "cell_type": "code",
   "execution_count": 2,
   "id": "f2296dad",
   "metadata": {},
   "outputs": [
    {
     "name": "stderr",
     "output_type": "stream",
     "text": [
      "\u001b[32m\u001b[1m  Activating\u001b[22m\u001b[39m project at `~/Desktop/Felman/projects/Quantum/ChemQHam`\n",
      "┌ Warning: Your operating system has run out of inotify capacity.\n",
      "│ Check the current value with `cat /proc/sys/fs/inotify/max_user_watches`.\n",
      "│ Set it to a higher level with, e.g., `echo 65536 | sudo tee -a /proc/sys/fs/inotify/max_user_watches`.\n",
      "│ This requires having administrative privileges on your machine (or talk to your sysadmin).\n",
      "│ See https://github.com/timholy/Revise.jl/issues/26 for more information.\n",
      "└ @ Revise /home/daniel/.julia/packages/Revise/7QZSP/src/packagedef.jl:67\n",
      "┌ Warning: Your operating system has run out of inotify capacity.\n",
      "│ Check the current value with `cat /proc/sys/fs/inotify/max_user_watches`.\n",
      "│ Set it to a higher level with, e.g., `echo 65536 | sudo tee -a /proc/sys/fs/inotify/max_user_watches`.\n",
      "│ This requires having administrative privileges on your machine (or talk to your sysadmin).\n",
      "│ See https://github.com/timholy/Revise.jl/issues/26 for more information.\n",
      "└ @ Revise /home/daniel/.julia/packages/Revise/7QZSP/src/packagedef.jl:67\n",
      "┌ Warning: Your operating system has run out of inotify capacity.\n",
      "│ Check the current value with `cat /proc/sys/fs/inotify/max_user_watches`.\n",
      "│ Set it to a higher level with, e.g., `echo 65536 | sudo tee -a /proc/sys/fs/inotify/max_user_watches`.\n",
      "│ This requires having administrative privileges on your machine (or talk to your sysadmin).\n",
      "│ See https://github.com/timholy/Revise.jl/issues/26 for more information.\n",
      "└ @ Revise /home/daniel/.julia/packages/Revise/7QZSP/src/packagedef.jl:67\n",
      "┌ Warning: Your operating system has run out of inotify capacity.\n",
      "│ Check the current value with `cat /proc/sys/fs/inotify/max_user_watches`.\n",
      "│ Set it to a higher level with, e.g., `echo 65536 | sudo tee -a /proc/sys/fs/inotify/max_user_watches`.\n",
      "│ This requires having administrative privileges on your machine (or talk to your sysadmin).\n",
      "│ See https://github.com/timholy/Revise.jl/issues/26 for more information.\n",
      "└ @ Revise /home/daniel/.julia/packages/Revise/7QZSP/src/packagedef.jl:67\n",
      "┌ Warning: Your operating system has run out of inotify capacity.\n",
      "│ Check the current value with `cat /proc/sys/fs/inotify/max_user_watches`.\n",
      "│ Set it to a higher level with, e.g., `echo 65536 | sudo tee -a /proc/sys/fs/inotify/max_user_watches`.\n",
      "│ This requires having administrative privileges on your machine (or talk to your sysadmin).\n",
      "│ See https://github.com/timholy/Revise.jl/issues/26 for more information.\n",
      "└ @ Revise /home/daniel/.julia/packages/Revise/7QZSP/src/packagedef.jl:67\n",
      "┌ Warning: Your operating system has run out of inotify capacity.\n",
      "│ Check the current value with `cat /proc/sys/fs/inotify/max_user_watches`.\n",
      "│ Set it to a higher level with, e.g., `echo 65536 | sudo tee -a /proc/sys/fs/inotify/max_user_watches`.\n",
      "│ This requires having administrative privileges on your machine (or talk to your sysadmin).\n",
      "│ See https://github.com/timholy/Revise.jl/issues/26 for more information.\n",
      "└ @ Revise /home/daniel/.julia/packages/Revise/7QZSP/src/packagedef.jl:67\n",
      "┌ Warning: Your operating system has run out of inotify capacity.\n",
      "│ Check the current value with `cat /proc/sys/fs/inotify/max_user_watches`.\n",
      "│ Set it to a higher level with, e.g., `echo 65536 | sudo tee -a /proc/sys/fs/inotify/max_user_watches`.\n",
      "│ This requires having administrative privileges on your machine (or talk to your sysadmin).\n",
      "│ See https://github.com/timholy/Revise.jl/issues/26 for more information.\n",
      "└ @ Revise /home/daniel/.julia/packages/Revise/7QZSP/src/packagedef.jl:67\n",
      "┌ Warning: Your operating system has run out of inotify capacity.\n",
      "│ Check the current value with `cat /proc/sys/fs/inotify/max_user_watches`.\n",
      "│ Set it to a higher level with, e.g., `echo 65536 | sudo tee -a /proc/sys/fs/inotify/max_user_watches`.\n",
      "│ This requires having administrative privileges on your machine (or talk to your sysadmin).\n",
      "│ See https://github.com/timholy/Revise.jl/issues/26 for more information.\n",
      "└ @ Revise /home/daniel/.julia/packages/Revise/7QZSP/src/packagedef.jl:67\n",
      "┌ Warning: Your operating system has run out of inotify capacity.\n",
      "│ Check the current value with `cat /proc/sys/fs/inotify/max_user_watches`.\n",
      "│ Set it to a higher level with, e.g., `echo 65536 | sudo tee -a /proc/sys/fs/inotify/max_user_watches`.\n",
      "│ This requires having administrative privileges on your machine (or talk to your sysadmin).\n",
      "│ See https://github.com/timholy/Revise.jl/issues/26 for more information.\n",
      "└ @ Revise /home/daniel/.julia/packages/Revise/7QZSP/src/packagedef.jl:67\n",
      "┌ Warning: Your operating system has run out of inotify capacity.\n",
      "│ Check the current value with `cat /proc/sys/fs/inotify/max_user_watches`.\n",
      "│ Set it to a higher level with, e.g., `echo 65536 | sudo tee -a /proc/sys/fs/inotify/max_user_watches`.\n",
      "│ This requires having administrative privileges on your machine (or talk to your sysadmin).\n",
      "│ See https://github.com/timholy/Revise.jl/issues/26 for more information.\n",
      "└ @ Revise /home/daniel/.julia/packages/Revise/7QZSP/src/packagedef.jl:67\n",
      "┌ Warning: Your operating system has run out of inotify capacity.\n",
      "│ Check the current value with `cat /proc/sys/fs/inotify/max_user_watches`.\n",
      "│ Set it to a higher level with, e.g., `echo 65536 | sudo tee -a /proc/sys/fs/inotify/max_user_watches`.\n",
      "│ This requires having administrative privileges on your machine (or talk to your sysadmin).\n",
      "│ See https://github.com/timholy/Revise.jl/issues/26 for more information.\n",
      "└ @ Revise /home/daniel/.julia/packages/Revise/7QZSP/src/packagedef.jl:67\n",
      "┌ Warning: Your operating system has run out of inotify capacity.\n",
      "│ Check the current value with `cat /proc/sys/fs/inotify/max_user_watches`.\n",
      "│ Set it to a higher level with, e.g., `echo 65536 | sudo tee -a /proc/sys/fs/inotify/max_user_watches`.\n",
      "│ This requires having administrative privileges on your machine (or talk to your sysadmin).\n",
      "│ See https://github.com/timholy/Revise.jl/issues/26 for more information.\n",
      "└ @ Revise /home/daniel/.julia/packages/Revise/7QZSP/src/packagedef.jl:67\n",
      "┌ Warning: Your operating system has run out of inotify capacity.\n",
      "│ Check the current value with `cat /proc/sys/fs/inotify/max_user_watches`.\n",
      "│ Set it to a higher level with, e.g., `echo 65536 | sudo tee -a /proc/sys/fs/inotify/max_user_watches`.\n",
      "│ This requires having administrative privileges on your machine (or talk to your sysadmin).\n",
      "│ See https://github.com/timholy/Revise.jl/issues/26 for more information.\n",
      "└ @ Revise /home/daniel/.julia/packages/Revise/7QZSP/src/packagedef.jl:67\n",
      "┌ Warning: Your operating system has run out of inotify capacity.\n",
      "│ Check the current value with `cat /proc/sys/fs/inotify/max_user_watches`.\n",
      "│ Set it to a higher level with, e.g., `echo 65536 | sudo tee -a /proc/sys/fs/inotify/max_user_watches`.\n",
      "│ This requires having administrative privileges on your machine (or talk to your sysadmin).\n",
      "│ See https://github.com/timholy/Revise.jl/issues/26 for more information.\n",
      "└ @ Revise /home/daniel/.julia/packages/Revise/7QZSP/src/packagedef.jl:67\n",
      "┌ Warning: Your operating system has run out of inotify capacity.\n",
      "│ Check the current value with `cat /proc/sys/fs/inotify/max_user_watches`.\n",
      "│ Set it to a higher level with, e.g., `echo 65536 | sudo tee -a /proc/sys/fs/inotify/max_user_watches`.\n",
      "│ This requires having administrative privileges on your machine (or talk to your sysadmin).\n",
      "│ See https://github.com/timholy/Revise.jl/issues/26 for more information.\n",
      "└ @ Revise /home/daniel/.julia/packages/Revise/7QZSP/src/packagedef.jl:67\n",
      "┌ Warning: Your operating system has run out of inotify capacity.\n",
      "│ Check the current value with `cat /proc/sys/fs/inotify/max_user_watches`.\n",
      "│ Set it to a higher level with, e.g., `echo 65536 | sudo tee -a /proc/sys/fs/inotify/max_user_watches`.\n",
      "│ This requires having administrative privileges on your machine (or talk to your sysadmin).\n",
      "│ See https://github.com/timholy/Revise.jl/issues/26 for more information.\n",
      "└ @ Revise /home/daniel/.julia/packages/Revise/7QZSP/src/packagedef.jl:67\n",
      "┌ Warning: Your operating system has run out of inotify capacity.\n",
      "│ Check the current value with `cat /proc/sys/fs/inotify/max_user_watches`.\n",
      "│ Set it to a higher level with, e.g., `echo 65536 | sudo tee -a /proc/sys/fs/inotify/max_user_watches`.\n",
      "│ This requires having administrative privileges on your machine (or talk to your sysadmin).\n",
      "│ See https://github.com/timholy/Revise.jl/issues/26 for more information.\n",
      "└ @ Revise /home/daniel/.julia/packages/Revise/7QZSP/src/packagedef.jl:67\n"
     ]
    }
   ],
   "source": [
    "using Pkg\n",
    "Pkg.activate(\"..\")\n",
    "\n",
    "include(\"../src/ChemQHam.jl\")\n",
    "using .ChemQHam\n",
    "\n",
    "using HDF5\n",
    "using TensorKit\n",
    "using SparseArrays\n",
    "using LinearAlgebra\n",
    "\n",
    "using ITensorMPS\n",
    "using ITensorChemistry\n",
    "import TensorKit: ⊕\n"
   ]
  },
  {
   "cell_type": "code",
   "execution_count": 3,
   "id": "a931a91b",
   "metadata": {},
   "outputs": [
    {
     "data": {
      "text/plain": [
       "Float64"
      ]
     },
     "metadata": {},
     "output_type": "display_data"
    }
   ],
   "source": [
    "phySpace = genPhySpace(\"su2\")\n",
    "dataType = Float64"
   ]
  },
  {
   "cell_type": "markdown",
   "id": "a6effc06",
   "metadata": {},
   "source": [
    "### Test Hopping term a1c2"
   ]
  },
  {
   "cell_type": "code",
   "execution_count": 4,
   "id": "e83c07be",
   "metadata": {},
   "outputs": [
    {
     "name": "stdout",
     "output_type": "stream",
     "text": [
      "Testing a1c2...\n",
      "opsum: sum(\n",
      "  0.1479263190288496 c†↑(1,) c↑(2,)\n",
      "  0.1479263190288496 c†↓(1,) c↓(2,)\n",
      ")\n",
      "op_terms: ChemOpSum with 1 terms:\n",
      "  1. [ a1 ]_1 ── [ c1 ]_2    factor = 0.1479263190288496\n"
     ]
    }
   ],
   "source": [
    "#### a1c2 ####\n",
    "\n",
    "n_sites=2\n",
    "init_ord = collect(1:n_sites)\n",
    "algo=\"Hungarian\"\n",
    "ops_tol= 1e-8\n",
    "ops_factor = 1e0\n",
    "\n",
    "a_loc = 1\n",
    "c_loc = 2\n",
    "\n",
    "println(\"Testing a1c2...\")\n",
    "\n",
    "# IT\n",
    "# it_terms_range = [4,5]\n",
    "# (; opsum, h1e, h2e, nuc_e) = ITChem_opsum(n_sites; idx_factor_list=nothing, it_terms_range=it_terms_range, ops_tol=ops_tol, ops_factor=ops_factor)\n",
    "\n",
    "(; opsum, h1e, h2e, nuc_e) = ITChem_opsum(n_sites; idx_factor_list=nothing, it_terms_range=nothing, ops_tol=ops_tol, ops_factor=ops_factor)\n",
    "aacc_sites = map(op->[local_op.sites[1] for local_op in op.args[2]], opsum)\n",
    "it_terms_range = findall(sites->length(sites)==2 && sites[1] == a_loc && sites[2] == c_loc, aacc_sites)\n",
    "opsum = reduce(+, op for op in opsum[it_terms_range]) * ops_factor\n",
    "\n",
    "println(\"opsum: \", opsum)\n",
    "\n",
    "\n",
    "# TK\n",
    "\n",
    "terms = gen_ChemOpSum(h1e, h2e, nuc_e, init_ord; tol=ops_tol, spin_symm=true)\n",
    "\n",
    "terms_range = findall(t->length(t.sites)==2 && t.sites[1] == a_loc && t.sites[2] == c_loc , terms)\n",
    "\n",
    "op_terms=terms[terms_range] * ops_factor\n",
    "println(\"op_terms: \", op_terms)\n"
   ]
  },
  {
   "cell_type": "code",
   "execution_count": 6,
   "id": "eaf2faf8",
   "metadata": {},
   "outputs": [
    {
     "name": "stderr",
     "output_type": "stream",
     "text": [
      "┌ Warning: FermionParity Arrays do not preserve categorical properties.\n",
      "└ @ TensorKitSectors /home/daniel/.julia/packages/TensorKitSectors/8zBl2/src/fermions.jl:53\n"
     ]
    },
    {
     "name": "stdout",
     "output_type": "stream",
     "text": [
      "Condition a1c2: true\n"
     ]
    }
   ],
   "source": [
    "\n",
    "table, primary_ops, factors = terms_to_table(n_sites, op_terms)\n",
    "symbolic_mpo, virt_spaces = construct_symbolic_mpo(table, primary_ops, factors; algo=\"Hungarian\", verbose=false)\n",
    "mpo = symbolic_to_tensorkit_mpo(symbolic_mpo, virt_spaces, phySpace; spin_symm=false, dataType=dataType, verbose=false)\n",
    "tk_mat = mpo_to_mat(mpo)\n",
    "tk_nz = collect(zip(findnz(tk_mat)...))\n",
    "\n",
    "\n",
    "# it_mat = ITensor_mat(chem_data, init_ord; ops_tol=ops_tol, ops_factor=ops_factor, opsum=opsum)\n",
    "it_mat = ITChem_mat(opsum, n_sites)\n",
    "it_nz = collect(zip(findnz(it_mat)...))\n",
    "\n",
    "# compare\n",
    "cond_a1c2 = isapprox(norm(tk_mat-it_mat), 0.0, atol=1e-6)\n",
    "println(\"Condition a1c2: \", cond_a1c2)\n"
   ]
  },
  {
   "cell_type": "code",
   "execution_count": null,
   "id": "3a038b1b",
   "metadata": {},
   "outputs": [],
   "source": []
  },
  {
   "cell_type": "code",
   "execution_count": null,
   "id": "7a89d3d7",
   "metadata": {},
   "outputs": [],
   "source": []
  }
 ],
 "metadata": {
  "kernelspec": {
   "display_name": "Julia 1.11.5",
   "language": "julia",
   "name": "julia-1.11"
  },
  "language_info": {
   "file_extension": ".jl",
   "mimetype": "application/julia",
   "name": "julia",
   "version": "1.11.5"
  }
 },
 "nbformat": 4,
 "nbformat_minor": 5
}
